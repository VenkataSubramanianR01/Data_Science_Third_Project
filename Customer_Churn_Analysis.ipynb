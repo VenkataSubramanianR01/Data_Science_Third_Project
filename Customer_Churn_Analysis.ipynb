{
 "cells": [
  {
   "cell_type": "code",
   "execution_count": 174,
   "metadata": {},
   "outputs": [],
   "source": [
    "import os\n",
    "import pandas as pd\n",
    "import numpy as py\n",
    "os.chdir(\"D:\\Data Science\\Third_Project\")"
   ]
  },
  {
   "cell_type": "code",
   "execution_count": 175,
   "metadata": {},
   "outputs": [],
   "source": [
    "customer_train_data=pd.read_csv(\"Train_data.csv\")\n",
    "customer_test_data=pd.read_csv(\"Test_data.csv\")"
   ]
  },
  {
   "cell_type": "code",
   "execution_count": 176,
   "metadata": {},
   "outputs": [],
   "source": [
    "#Import Missing values using KNN\n",
    "from fancyimpute import KNN\n",
    "customer_train_data=pd.DataFrame(KNN(k=5).complete(customer_train_data),columns=customer_train_data.columns)\n",
    "customer_test_data=pd.DataFrame(KNN(k=5).complete(customer_test_data),columns=customer_test_data.columns)"
   ]
  },
  {
   "cell_type": "code",
   "execution_count": 177,
   "metadata": {},
   "outputs": [
    {
     "data": {
      "text/plain": [
       "{'whiskers': [<matplotlib.lines.Line2D at 0x218f0e172e8>,\n",
       "  <matplotlib.lines.Line2D at 0x218f0e12cc0>],\n",
       " 'caps': [<matplotlib.lines.Line2D at 0x218f0e06240>,\n",
       "  <matplotlib.lines.Line2D at 0x218f0cfc4a8>],\n",
       " 'boxes': [<matplotlib.lines.Line2D at 0x218f0e220b8>],\n",
       " 'medians': [<matplotlib.lines.Line2D at 0x218f0cf4a20>],\n",
       " 'fliers': [<matplotlib.lines.Line2D at 0x218f09b9400>],\n",
       " 'means': []}"
      ]
     },
     "execution_count": 177,
     "metadata": {},
     "output_type": "execute_result"
    },
    {
     "data": {
      "image/png": "[encoded data removed]",
      "text/plain": [
       "<matplotlib.figure.Figure at 0x218f0b720f0>"
      ]
     },
     "metadata": {},
     "output_type": "display_data"
    }
   ],
   "source": [
    "#Detect Outliers\n",
    "import matplotlib.pyplot as plt\n",
    "plt.boxplot(customer_train_data['total day minutes'])\n",
    "#customer_train_data.columns"
   ]
  },
  {
   "cell_type": "code",
   "execution_count": 178,
   "metadata": {},
   "outputs": [],
   "source": [
    "cnames=[ 'account length', 'area code',\n",
    "         'number vmail messages',\n",
    "       'total day minutes', 'total day calls', 'total day charge',\n",
    "       'total eve minutes', 'total eve calls', 'total eve charge',\n",
    "       'total night minutes', 'total night calls', 'total night charge',\n",
    "       'total intl minutes', 'total intl calls', 'total intl charge',\n",
    "       'number customer service calls']\n",
    "\n",
    "float_values=['total day minutes','total day charge','total eve minutes',\n",
    "              'total eve charge','total night minutes','total night charge','total intl minutes',\n",
    "              'total intl charge']\n",
    "\n",
    "for i in float_values:\n",
    "    customer_train_data[i]=customer_train_data[i].astype(int)"
   ]
  },
  {
   "cell_type": "code",
   "execution_count": 179,
   "metadata": {},
   "outputs": [],
   "source": [
    "#Detect and delete outliers from train data\n",
    "for i in cnames:\n",
    "    q75,q25=py.percentile(customer_train_data.loc[:,i],[75,25])\n",
    "    iqr=q75-q25\n",
    "    min_value = q25 - (iqr*1.5)\n",
    "    max_value = q75 + (iqr*1.5)\n",
    "    customer_train_data=customer_train_data.drop(customer_train_data[customer_train_data.loc[:,i]<min_value].index)\n",
    "    customer_train_data=customer_train_data.drop(customer_train_data[customer_train_data.loc[:,i]>max_value].index)"
   ]
  },
  {
   "cell_type": "code",
   "execution_count": 180,
   "metadata": {},
   "outputs": [
    {
     "data": {
      "text/plain": [
       "(2758, 21)"
      ]
     },
     "execution_count": 180,
     "metadata": {},
     "output_type": "execute_result"
    }
   ],
   "source": [
    "customer_train_data.shape"
   ]
  },
  {
   "cell_type": "code",
   "execution_count": 181,
   "metadata": {},
   "outputs": [],
   "source": [
    "cnames_test=[ 'account length', 'area code',\n",
    "         'number vmail messages',\n",
    "       'total day minutes', 'total day calls', 'total day charge',\n",
    "       'total eve minutes', 'total eve calls', 'total eve charge',\n",
    "       'total night minutes', 'total night calls', 'total night charge',\n",
    "       'total intl minutes', 'total intl calls', 'total intl charge',\n",
    "       'number customer service calls']\n",
    "\n",
    "float_values_test=['total day minutes','total day charge','total eve minutes',\n",
    "              'total eve charge','total night minutes','total night charge','total intl minutes',\n",
    "              'total intl charge']\n",
    "\n",
    "for i in float_values_test:\n",
    "    customer_test_data[i]=customer_test_data[i].astype(int)"
   ]
  },
  {
   "cell_type": "code",
   "execution_count": 182,
   "metadata": {},
   "outputs": [],
   "source": [
    "#Detect and delete outliers from test data\n",
    "for i in cnames_test:\n",
    "    q75,q25=py.percentile(customer_test_data.loc[:,i],[75,25])\n",
    "    iqr=q75-q25\n",
    "    min_value = q25 - (iqr*1.5)\n",
    "    max_value = q75 + (iqr*1.5)\n",
    "    customer_test_data=customer_test_data.drop(customer_test_data[customer_test_data.loc[:,i]<min_value].index)\n",
    "    customer_test_data=customer_test_data.drop(customer_test_data[customer_test_data.loc[:,i]>max_value].index)"
   ]
  },
  {
   "cell_type": "code",
   "execution_count": 183,
   "metadata": {},
   "outputs": [
    {
     "data": {
      "text/plain": [
       "(734, 21)"
      ]
     },
     "execution_count": 183,
     "metadata": {},
     "output_type": "execute_result"
    }
   ],
   "source": [
    "customer_test_data.shape"
   ]
  },
  {
   "cell_type": "code",
   "execution_count": 184,
   "metadata": {},
   "outputs": [],
   "source": [
    "#Outliers Removed Data\n",
    "customer_train_data=pd.read_csv(\"Outliers_Removed_Train_Data.csv\")\n",
    "customer_test_data=pd.read_csv(\"Outliers_Removed_Test_Data.csv\")"
   ]
  },
  {
   "cell_type": "code",
   "execution_count": 185,
   "metadata": {},
   "outputs": [],
   "source": [
    "cnames_train_loaded=['account.length', 'area.code', \n",
    "        'number.vmail.messages','total.day.minutes', 'total.day.calls', 'total.day.charge',\n",
    "       'total.eve.minutes', 'total.eve.calls', 'total.eve.charge',\n",
    "       'total.night.minutes', 'total.night.calls', 'total.night.charge',\n",
    "       'total.intl.minutes', 'total.intl.calls', 'total.intl.charge',\n",
    "       'number.customer.service.calls']\n"
   ]
  },
  {
   "cell_type": "code",
   "execution_count": 186,
   "metadata": {},
   "outputs": [
    {
     "data": {
      "text/plain": [
       "<matplotlib.axes._subplots.AxesSubplot at 0x218f09e3940>"
      ]
     },
     "execution_count": 186,
     "metadata": {},
     "output_type": "execute_result"
    },
    {
     "data": {
      "image/png": "[encoded data removed]",
      "text/plain": [
       "<matplotlib.figure.Figure at 0x218f031a5f8>"
      ]
     },
     "metadata": {},
     "output_type": "display_data"
    }
   ],
   "source": [
    "#correlation plot\n",
    "import seaborn as sns\n",
    "import matplotlib.pyplot as plt\n",
    "df_corr=customer_train_data.loc[:,cnames_train_loaded]\n",
    "\n",
    "#set height and width of the plot\n",
    "f, ax = plt.subplots(figsize=(7, 5))\n",
    "\n",
    "#Generate correlation matrix\n",
    "corr = df_corr.corr()\n",
    "\n",
    "#Plot using seaborn library\n",
    "sns.heatmap(corr, mask=py.zeros_like(corr, dtype=py.bool), cmap=sns.diverging_palette(220, 10, as_cmap=True),\n",
    "            square=True, ax=ax)"
   ]
  },
  {
   "cell_type": "code",
   "execution_count": 187,
   "metadata": {},
   "outputs": [],
   "source": [
    "cnames_test_loaded=['account.length', 'area.code', \n",
    "        'number.vmail.messages','total.day.minutes', 'total.day.calls', 'total.day.charge',\n",
    "       'total.eve.minutes', 'total.eve.calls', 'total.eve.charge',\n",
    "       'total.night.minutes', 'total.night.calls', 'total.night.charge',\n",
    "       'total.intl.minutes', 'total.intl.calls', 'total.intl.charge',\n",
    "       'number.customer.service.calls']"
   ]
  },
  {
   "cell_type": "code",
   "execution_count": 188,
   "metadata": {},
   "outputs": [
    {
     "data": {
      "text/plain": [
       "<matplotlib.axes._subplots.AxesSubplot at 0x218f0e12b70>"
      ]
     },
     "execution_count": 188,
     "metadata": {},
     "output_type": "execute_result"
    },
    {
     "data": {
      "image/png": "[encoded data removed]",
      "text/plain": [
       "<matplotlib.figure.Figure at 0x218ee9f2a20>"
      ]
     },
     "metadata": {},
     "output_type": "display_data"
    }
   ],
   "source": [
    "#correlation plot\n",
    "import seaborn as sns\n",
    "df_corr=customer_test_data.loc[:,cnames_test_loaded]\n",
    "\n",
    "#set height and width of the plot\n",
    "f, ax = plt.subplots(figsize=(7, 5))\n",
    "\n",
    "#Generate correlation matrix\n",
    "corr = df_corr.corr()\n",
    "\n",
    "#Plot using seaborn library\n",
    "sns.heatmap(corr, mask=py.zeros_like(corr, dtype=py.bool), cmap=sns.diverging_palette(220, 10, as_cmap=True),\n",
    "            square=True, ax=ax)"
   ]
  },
  {
   "cell_type": "code",
   "execution_count": 189,
   "metadata": {},
   "outputs": [],
   "source": [
    "customer_train_data=customer_train_data.drop(['total.day.charge','total.eve.charge','total.night.charge','total.intl.charge','area.code','account.length',\n",
    "                                              'total.day.calls','total.eve.calls','total.night.calls'],axis=1)\n",
    "customer_test_data=customer_test_data.drop(['total.day.charge','total.eve.charge','total.night.charge','total.intl.charge'\n",
    "                                           ,'area.code','account.length','total.day.calls','total.eve.calls','total.night.calls'],axis=1)"
   ]
  },
  {
   "cell_type": "code",
   "execution_count": 190,
   "metadata": {},
   "outputs": [],
   "source": [
    "#Chi-Square Test for train data:\n",
    "catnames_train=['state','phone.number','international.plan','voice.mail.plan','Churn']"
   ]
  },
  {
   "cell_type": "code",
   "execution_count": 191,
   "metadata": {},
   "outputs": [
    {
     "name": "stdout",
     "output_type": "stream",
     "text": [
      "state\n",
      "0.00229622155201\n",
      "phone.number\n",
      "0.491856084559\n",
      "international.plan\n",
      "2.49310770332e-50\n",
      "voice.mail.plan\n",
      "5.15063965904e-09\n",
      "Churn\n",
      "0.0\n"
     ]
    }
   ],
   "source": [
    "from scipy.stats import chi2_contingency\n",
    "for i in catnames_train:\n",
    "    print(i)\n",
    "    chi2, p, dof, ex = chi2_contingency(pd.crosstab(customer_train_data['Churn'], customer_train_data[i]))\n",
    "    print(p)"
   ]
  },
  {
   "cell_type": "code",
   "execution_count": 192,
   "metadata": {},
   "outputs": [],
   "source": [
    "#Chi-Square Test for test data:\n",
    "catnames_test=['state','phone.number','international.plan','voice.mail.plan','Churn']"
   ]
  },
  {
   "cell_type": "code",
   "execution_count": 193,
   "metadata": {},
   "outputs": [
    {
     "name": "stdout",
     "output_type": "stream",
     "text": [
      "state\n",
      "0.0470412805642\n",
      "phone.number\n",
      "0.488484303652\n",
      "international.plan\n",
      "3.19602095723e-25\n",
      "voice.mail.plan\n",
      "1.34189390001e-07\n",
      "Churn\n",
      "0.0\n"
     ]
    }
   ],
   "source": [
    "for i in catnames_train:\n",
    "    print(i)\n",
    "    chi2, p, dof, ex = chi2_contingency(pd.crosstab(customer_test_data['Churn'], customer_test_data[i]))\n",
    "    print(p)"
   ]
  },
  {
   "cell_type": "code",
   "execution_count": 194,
   "metadata": {},
   "outputs": [],
   "source": [
    "customer_train_data=customer_train_data.drop(['phone.number','state'],axis=1)\n",
    "customer_test_data=customer_test_data.drop(['phone.number','state'],axis=1)\n",
    "#customer_train_data.shape"
   ]
  },
  {
   "cell_type": "code",
   "execution_count": 195,
   "metadata": {},
   "outputs": [],
   "source": [
    "#Decision Tree Development\n",
    "from sklearn import tree\n",
    "customer_train_data['international.plan']=customer_train_data['international.plan'].replace(' yes',1)\n",
    "customer_train_data['international.plan']=customer_train_data['international.plan'].replace(' no',0)\n",
    "customer_train_data['voice.mail.plan']=customer_train_data['voice.mail.plan'].replace(' yes',1)\n",
    "customer_train_data['voice.mail.plan']=customer_train_data['voice.mail.plan'].replace(' no',0)\n",
    "#Test Data\n",
    "customer_test_data['international.plan']=customer_train_data['international.plan'].replace(' yes',1)\n",
    "customer_test_data['international.plan']=customer_train_data['international.plan'].replace(' no',0)\n",
    "customer_test_data['voice.mail.plan']=customer_train_data['voice.mail.plan'].replace(' yes',1)\n",
    "customer_test_data['voice.mail.plan']=customer_train_data['voice.mail.plan'].replace(' no',0)\n"
   ]
  },
  {
   "cell_type": "code",
   "execution_count": 147,
   "metadata": {},
   "outputs": [],
   "source": [
    "#C50_model = tree.DecisionTreeClassifier(criterion='entropy').fit(X_Train,Y_Train)\n",
    "#customer_train_data.shape\n",
    "#customer_train_data.head(20)"
   ]
  },
  {
   "cell_type": "code",
   "execution_count": 196,
   "metadata": {},
   "outputs": [],
   "source": [
    "customer_train_data['Churn']=customer_train_data['Churn'].replace(' False.','No')\n",
    "customer_train_data['Churn']=customer_train_data['Churn'].replace(' True.','Yes')\n",
    "customer_test_data['Churn']=customer_test_data['Churn'].replace(' False.','No')\n",
    "customer_test_data['Churn']=customer_test_data['Churn'].replace(' True.','Yes')\n",
    "X=customer_train_data.values[:,0:9]\n",
    "Y=customer_train_data.values[:,9]\n",
    "x=customer_test_data.values[:,0:9]\n",
    "y=customer_test_data.values[:,9]\n"
   ]
  },
  {
   "cell_type": "code",
   "execution_count": 197,
   "metadata": {},
   "outputs": [
    {
     "data": {
      "text/html": [
       "<div>\n",
       "<style scoped>\n",
       "    .dataframe tbody tr th:only-of-type {\n",
       "        vertical-align: middle;\n",
       "    }\n",
       "\n",
       "    .dataframe tbody tr th {\n",
       "        vertical-align: top;\n",
       "    }\n",
       "\n",
       "    .dataframe thead th {\n",
       "        text-align: right;\n",
       "    }\n",
       "</style>\n",
       "<table border=\"1\" class=\"dataframe\">\n",
       "  <thead>\n",
       "    <tr style=\"text-align: right;\">\n",
       "      <th></th>\n",
       "      <th>international.plan</th>\n",
       "      <th>voice.mail.plan</th>\n",
       "      <th>number.vmail.messages</th>\n",
       "      <th>total.day.minutes</th>\n",
       "      <th>total.eve.minutes</th>\n",
       "      <th>total.night.minutes</th>\n",
       "      <th>total.intl.minutes</th>\n",
       "      <th>total.intl.calls</th>\n",
       "      <th>number.customer.service.calls</th>\n",
       "      <th>Churn</th>\n",
       "    </tr>\n",
       "  </thead>\n",
       "  <tbody>\n",
       "    <tr>\n",
       "      <th>0</th>\n",
       "      <td>0</td>\n",
       "      <td>1</td>\n",
       "      <td>0</td>\n",
       "      <td>70.9</td>\n",
       "      <td>211.9</td>\n",
       "      <td>236.0</td>\n",
       "      <td>10.6</td>\n",
       "      <td>3.0</td>\n",
       "      <td>3.0</td>\n",
       "      <td>No</td>\n",
       "    </tr>\n",
       "    <tr>\n",
       "      <th>1</th>\n",
       "      <td>0</td>\n",
       "      <td>1</td>\n",
       "      <td>0</td>\n",
       "      <td>223.6</td>\n",
       "      <td>244.8</td>\n",
       "      <td>94.2</td>\n",
       "      <td>9.5</td>\n",
       "      <td>7.0</td>\n",
       "      <td>0.0</td>\n",
       "      <td>No</td>\n",
       "    </tr>\n",
       "    <tr>\n",
       "      <th>2</th>\n",
       "      <td>0</td>\n",
       "      <td>0</td>\n",
       "      <td>29</td>\n",
       "      <td>294.7</td>\n",
       "      <td>237.3</td>\n",
       "      <td>300.3</td>\n",
       "      <td>13.7</td>\n",
       "      <td>6.0</td>\n",
       "      <td>1.0</td>\n",
       "      <td>No</td>\n",
       "    </tr>\n",
       "    <tr>\n",
       "      <th>3</th>\n",
       "      <td>1</td>\n",
       "      <td>0</td>\n",
       "      <td>0</td>\n",
       "      <td>216.8</td>\n",
       "      <td>126.4</td>\n",
       "      <td>220.6</td>\n",
       "      <td>15.7</td>\n",
       "      <td>2.0</td>\n",
       "      <td>1.0</td>\n",
       "      <td>No</td>\n",
       "    </tr>\n",
       "    <tr>\n",
       "      <th>4</th>\n",
       "      <td>1</td>\n",
       "      <td>0</td>\n",
       "      <td>0</td>\n",
       "      <td>197.4</td>\n",
       "      <td>124.0</td>\n",
       "      <td>204.5</td>\n",
       "      <td>7.7</td>\n",
       "      <td>4.0</td>\n",
       "      <td>2.0</td>\n",
       "      <td>No</td>\n",
       "    </tr>\n",
       "  </tbody>\n",
       "</table>\n",
       "</div>"
      ],
      "text/plain": [
       "   international.plan  voice.mail.plan  number.vmail.messages  \\\n",
       "0                   0                1                      0   \n",
       "1                   0                1                      0   \n",
       "2                   0                0                     29   \n",
       "3                   1                0                      0   \n",
       "4                   1                0                      0   \n",
       "\n",
       "   total.day.minutes  total.eve.minutes  total.night.minutes  \\\n",
       "0               70.9              211.9                236.0   \n",
       "1              223.6              244.8                 94.2   \n",
       "2              294.7              237.3                300.3   \n",
       "3              216.8              126.4                220.6   \n",
       "4              197.4              124.0                204.5   \n",
       "\n",
       "   total.intl.minutes  total.intl.calls  number.customer.service.calls Churn  \n",
       "0                10.6               3.0                            3.0    No  \n",
       "1                 9.5               7.0                            0.0    No  \n",
       "2                13.7               6.0                            1.0    No  \n",
       "3                15.7               2.0                            1.0    No  \n",
       "4                 7.7               4.0                            2.0    No  "
      ]
     },
     "execution_count": 197,
     "metadata": {},
     "output_type": "execute_result"
    }
   ],
   "source": [
    "customer_test_data.head(5)"
   ]
  },
  {
   "cell_type": "code",
   "execution_count": 198,
   "metadata": {},
   "outputs": [],
   "source": [
    "c50_model=tree.DecisionTreeClassifier(criterion='entropy').fit(X,Y)"
   ]
  },
  {
   "cell_type": "code",
   "execution_count": 199,
   "metadata": {},
   "outputs": [],
   "source": [
    "c50_Predictions=c50_model.predict(x)"
   ]
  },
  {
   "cell_type": "code",
   "execution_count": 200,
   "metadata": {},
   "outputs": [],
   "source": [
    "Confusion_Matrix = pd.crosstab(y,c50_Predictions)\n",
    "\n",
    "#let us save TP, TN, FP, FN\n",
    "TN = Confusion_Matrix.iloc[0,0]\n",
    "FN = Confusion_Matrix.iloc[1,0]\n",
    "TP = Confusion_Matrix.iloc[1,1]\n",
    "FP = Confusion_Matrix.iloc[0,1]"
   ]
  },
  {
   "cell_type": "code",
   "execution_count": 201,
   "metadata": {},
   "outputs": [
    {
     "data": {
      "text/plain": [
       "85.542891421715652"
      ]
     },
     "execution_count": 201,
     "metadata": {},
     "output_type": "execute_result"
    }
   ],
   "source": [
    "#Accuracy for Decision Tree\n",
    "((TP+TN)*100)/(TP+TN+FP+FN) #86.14"
   ]
  },
  {
   "cell_type": "code",
   "execution_count": 202,
   "metadata": {},
   "outputs": [
    {
     "data": {
      "text/plain": [
       "52.232142857142854"
      ]
     },
     "execution_count": 202,
     "metadata": {},
     "output_type": "execute_result"
    }
   ],
   "source": [
    "#False Negative Rate\n",
    "(FN*100)/(FN+TP) #50.0"
   ]
  },
  {
   "cell_type": "code",
   "execution_count": 203,
   "metadata": {},
   "outputs": [],
   "source": [
    "#Random Forest Classifier\n",
    "from sklearn.ensemble import RandomForestClassifier\n",
    "\n",
    "RF_model = RandomForestClassifier(n_estimators = 20).fit(X,Y)"
   ]
  },
  {
   "cell_type": "code",
   "execution_count": 204,
   "metadata": {},
   "outputs": [],
   "source": [
    "RF_Predictions = RF_model.predict(x)"
   ]
  },
  {
   "cell_type": "code",
   "execution_count": 205,
   "metadata": {},
   "outputs": [],
   "source": [
    "#Confusion Matrix\n",
    "\n",
    "Confusion_Matrix_RF = pd.crosstab(y,RF_Predictions)\n",
    "\n",
    "#let us save TP, TN, FP, FN\n",
    "TN = Confusion_Matrix_RF.iloc[0,0]\n",
    "FN = Confusion_Matrix_RF.iloc[1,0]\n",
    "TP = Confusion_Matrix_RF.iloc[1,1]\n",
    "FP = Confusion_Matrix_RF.iloc[0,1]"
   ]
  },
  {
   "cell_type": "code",
   "execution_count": 206,
   "metadata": {},
   "outputs": [
    {
     "data": {
      "text/plain": [
       "87.102579484103174"
      ]
     },
     "execution_count": 206,
     "metadata": {},
     "output_type": "execute_result"
    }
   ],
   "source": [
    "#Accuracy\n",
    "((TP+TN)*100)/(TP+TN+FP+FN)#87.04"
   ]
  },
  {
   "cell_type": "code",
   "execution_count": 207,
   "metadata": {},
   "outputs": [
    {
     "data": {
      "text/plain": [
       "69.642857142857139"
      ]
     },
     "execution_count": 207,
     "metadata": {},
     "output_type": "execute_result"
    }
   ],
   "source": [
    "#False Negative Rate\n",
    "(FN*100)/(FN+TP)#69.6"
   ]
  }
 ],
 "metadata": {
  "kernelspec": {
   "display_name": "Python 3",
   "language": "python",
   "name": "python3"
  },
  "language_info": {
   "codemirror_mode": {
    "name": "ipython",
    "version": 3
   },
   "file_extension": ".py",
   "mimetype": "text/x-python",
   "name": "python",
   "nbconvert_exporter": "python",
   "pygments_lexer": "ipython3",
   "version": "3.6.5"
  }
 },
 "nbformat": 4,
 "nbformat_minor": 2
}
